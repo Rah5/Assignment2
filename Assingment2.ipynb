{
  "nbformat": 4,
  "nbformat_minor": 0,
  "metadata": {
    "colab": {
      "provenance": []
    },
    "kernelspec": {
      "name": "python3",
      "display_name": "Python 3"
    },
    "language_info": {
      "name": "python"
    }
  },
  "cells": [
    {
      "cell_type": "markdown",
      "source": [
        "1. What are data structures, and why are they important?\n",
        "-- A data structure is a specific way of organizing and storing data in a computer program, allowing for efficient access and manipulation of information based on the problem at hand; in Python, data structures are crucial because they provide built-in tools to manage collections of data, enabling programmers to write effective and organized code for various tasks, like storing lists, accessing specific elements, and performing operations on data sets efficiently.\n",
        "\n",
        "2. Explain the difference between mutable and immutable data types with examples.\n",
        "-- Mutable data types can be changed after they are created, while immutable data types cannot.\n",
        "Mutable data types-\n",
        "These data types can be modified after they are created. For example, in Python, lists, dictionaries, and sets are mutable data types.\n",
        "Immutable data types-\n",
        "These data types cannot be changed after they are created. For example, in Python, strings, tuples, integers, and floats are immutable data types.\n",
        "\n",
        "3. What are the main differences between lists and tuples in Python?\n",
        "-- The key difference between tuples and lists is that while tuples are immutable objects, lists are mutable. This means tuples cannot be changed while lists can be modified.\n",
        "\n",
        "4. Describe how dictionaries store data.\n",
        "-- A dictionary stores data in \"key-value pairs,\" where each unique \"key\" is associated with a corresponding \"value,\" allowing for efficient retrieval of information by using the key to access its related value; essentially, it's a mapping system where you can quickly find specific data based on a unique identifier (the key).\n",
        "\n",
        "5. Why might you use a set instead of a list in Python.\n",
        "-- Because sets cannot have multiple occurrences of the same element, it makes sets highly useful to efficiently remove duplicate values from a list or tuple and to perform common math operations like unions and intersections.\n",
        "\n",
        "6. What is a string in Python, and how is it different from a list?\n",
        "-- In Python, a string is an ordered sequence of characters enclosed in quotes (single or double), representing textual data, while a list is an ordered collection of items enclosed in square brackets, which can contain various data types and can be modified after creation, making strings immutable (unchangeable) and lists mutable (changeable).\n",
        "\n",
        "7. How do tuples ensure data integrity in Python?\n",
        "-- In Python, tuples ensure data integrity through their immutability, meaning their elements cannot be changed after creation. This prevents accidental modifications, ensuring the original data remains intact. Since tuples are hashable (if they contain only hashable elements), they can be used as keys in dictionaries or elements in sets, maintaining uniqueness and consistency. Additionally, tuples provide a fixed structure, making them ideal for representing unchangeable collections of data, ensuring reliable data sharing across functions without risk of alteration.\n",
        "\n",
        "8. What is a hash table, and how does it relate to dictionaries in Python?\n",
        "-- A hash table is a data structure that stores key-value pairs and uses a hashing function to map keys to specific indices in an array, enabling fast data retrieval, insertion, and deletion. In Python, dictionaries are implemented using hash tables, where keys are hashed to determine their position in the underlying storage. This allows dictionaries to provide average O(1) time complexity for lookups, inserts, and deletes. Since hash tables rely on unique keys, dictionaries automatically handle key collisions using techniques like chaining or open addressing to maintain data integrity.\n",
        "\n",
        "9. Can lists contain different data types in Python?\n",
        "-- Yes, lists in Python can contain elements of different data types. A single list can store integers, strings, floats, objects, and even other lists or tuples. This flexibility makes lists versatile for handling diverse collections of data.\n",
        "\n",
        "10. Explain why strings are immutable in Python.\n",
        "-- Strings are immutable in Python because once a string is created, its contents cannot be changed. This design ensures data integrity, thread safety, and efficient memory usage. Since strings are widely used in programming, immutability allows Python to optimize their storage by reusing instances (string interning) and preventing unintended modifications. When an operation appears to modify a string, a new string is created instead, leaving the original unchanged. This behavior enhances reliability when strings are used as keys in dictionaries or elements in sets, where immutability is essential for maintaining consistent hash values.\n",
        "\n",
        "11. What advantages do dictionaries offer over lists for certain tasks?\n",
        "-- Fast Lookups:-\n",
        "Dictionaries provide average O(1) time complexity for lookups, inserts, and deletions due to their hash table implementation, whereas lists have O(n) complexity for searching.\n",
        "\n",
        "Key-Value Pair Storage:-\n",
        "Dictionaries allow data to be stored and accessed using descriptive keys rather than numeric indices, making code more readable and intuitive.\n",
        "\n",
        "Unique Keys:-\n",
        "Each key in a dictionary is unique, which helps in tasks requiring uniqueness or quick duplicate detection.\n",
        "\n",
        "Unordered Data Handling:-\n",
        "While lists maintain order, dictionaries are ideal when order doesn’t matter, and fast access is prioritized.\n",
        "\n",
        "12. Describe a scenario where using a tuple would be preferable over a list.\n",
        "\n",
        "-- Using a tuple is preferable over a list in scenarios where immutability is required, meaning the data should not be changed after creation. One common example is when storing fixed data configurations or records that should remain constant, such as:\n",
        "\n",
        "Scenario: Storing geographic coordinates\n",
        "ex:- coordinates = (40.7128, -74.0060)\n",
        "\n",
        "13. How do sets handle duplicate values in Python?\n",
        "-- sets automatically eliminate duplicate values. When elements are added to a set, only unique values are retained, as sets are implemented using a hash table where each element’s hash value must be unique. If a duplicate element is added, it is ignored, and the set remains unchanged.\n",
        "\n",
        "14. How does the “in” keyword work differently for lists and dictionaries?\n",
        "-- For Lists:\n",
        "The in keyword checks whether a given value exists in the list by iterating through each element sequentially.\n",
        "For Dictionaries:\n",
        "The in keyword checks for the presence of a key in the dictionary, not values. Because dictionaries use a hash table for storage, this operation has an average time complexity of O(1).\n",
        "\n",
        "15. Can you modify the elements of a tuple? Explain why or why not.\n",
        "-- No, you cannot modify the elements of a tuple in Python because tuples are immutable, meaning their contents cannot be changed after creation. This immutability ensures that once a tuple is created, its size and elements remain fixed, preventing accidental modifications.\n",
        "\n",
        "16.What is a nested dictionary, and give an example of its use case.\n",
        "--A nested dictionary is a dictionary where one or more of its values are themselves dictionaries. This allows for organizing complex data structures where multiple levels of key-value pairs are required.\n",
        "example:- employees = {\n",
        "    'emp1': {'name': 'John', 'age': 30, 'department': 'HR'},\n",
        "    'emp2': {'name': 'Alice', 'age': 25, 'department': 'Finance'},\n",
        "    'emp3': {'name': 'Bob', 'age': 35, 'department': 'Engineering'}\n",
        "}\n",
        "\n",
        "17. Describe the time complexity of accessing elements in a dictionary.\n",
        "-- Accessing elements in a dictionary in Python typically has a time complexity of O(1) on average, meaning the operation takes constant time regardless of the size of the dictionary.\n",
        "\n",
        "18. In what situations are lists preferred over dictionaries?\n",
        "-- Use lists when the order of elements is important, you need to access elements by index, or you're working with homogeneous data that doesn't require key-value relationships. Dictionaries, on the other hand, are preferred when you need fast lookups by unique keys or need to associate values with specific keys.\n",
        "\n",
        "19. Why are dictionaries considered unordered, and how does that affect data retrieval?\n",
        "-- Dictionaries in Python are considered unordered because the key-value pairs in a dictionary do not maintain a predictable order. This was true in earlier versions of Python (before Python 3.7), where the order of elements in a dictionary was not guaranteed to be the same as the insertion order.\n",
        "Although dictionaries are technically unordered (in terms of their logical structure), they offer very efficient data retrieval by key, regardless of their order. In Python 3.7+, they maintain insertion order for iteration, but this doesn't change the fact that their primary focus is quick, efficient lookups, not maintaining order for other operations.\n",
        "20. Explain the difference between a list and a dictionary in terms of data retrieval.\n",
        "-- Lists: Retrieve elements by index. Fast access when index is known but slower for searching by value (O(n) time complexity for search).\n",
        "Dictionaries: Retrieve elements by key. Fast access in constant time (O(1)) for lookups by key, but no indexing system like lists.\n",
        "Dictionaries are ideal for scenarios where fast lookups by a unique key are required, whereas lists are suited for ordered data where you may need to access elements by their position or iterate over them."
      ],
      "metadata": {
        "id": "_smoRa44rhmx"
      }
    },
    {
      "cell_type": "code",
      "source": [
        "#Question.1 Write a code to create a string with your name and print it.\n",
        "\n",
        "name =\"Rahul Kumar\"\n",
        "print(name)"
      ],
      "metadata": {
        "id": "wZ2kJT5dOKUd",
        "colab": {
          "base_uri": "https://localhost:8080/"
        },
        "outputId": "ae709865-09a6-4ff9-a85b-7e5850716a95"
      },
      "execution_count": 2,
      "outputs": [
        {
          "output_type": "stream",
          "name": "stdout",
          "text": [
            "Rahul Kumar\n"
          ]
        }
      ]
    },
    {
      "cell_type": "code",
      "source": [
        "#Question.2 Write a code to find the length of the string \"Hello World\".\n",
        "\n",
        "word = \"Hello World!\"\n",
        "len(word)"
      ],
      "metadata": {
        "colab": {
          "base_uri": "https://localhost:8080/"
        },
        "id": "VGVM9UIRux9I",
        "outputId": "308b2000-e5f1-41b7-a97b-34f2a97360b9"
      },
      "execution_count": 3,
      "outputs": [
        {
          "output_type": "execute_result",
          "data": {
            "text/plain": [
              "12"
            ]
          },
          "metadata": {},
          "execution_count": 3
        }
      ]
    },
    {
      "cell_type": "code",
      "source": [
        "#Question.3 E Write a code to slice the first 3 characters from the string \"Python Programming\".\n",
        "\n",
        "word = \"Python Programming\"\n",
        "word[0:3]"
      ],
      "metadata": {
        "colab": {
          "base_uri": "https://localhost:8080/",
          "height": 35
        },
        "id": "FEBzbTSTvJJb",
        "outputId": "05c2e83c-6171-4b17-d1d9-f952a1574bad"
      },
      "execution_count": 4,
      "outputs": [
        {
          "output_type": "execute_result",
          "data": {
            "text/plain": [
              "'Pyt'"
            ],
            "application/vnd.google.colaboratory.intrinsic+json": {
              "type": "string"
            }
          },
          "metadata": {},
          "execution_count": 4
        }
      ]
    },
    {
      "cell_type": "code",
      "source": [
        "#Question.4 Write a code to convert the string \"hello\" to uppercase.\n",
        "\n",
        "word =\"hello world!\"\n",
        "str.upper(word)\n"
      ],
      "metadata": {
        "colab": {
          "base_uri": "https://localhost:8080/",
          "height": 35
        },
        "id": "bv3B8C0BvVyA",
        "outputId": "3ee79bc1-c282-4bbf-8799-4e6c9bd587ec"
      },
      "execution_count": 6,
      "outputs": [
        {
          "output_type": "execute_result",
          "data": {
            "text/plain": [
              "'HELLO WORLD!'"
            ],
            "application/vnd.google.colaboratory.intrinsic+json": {
              "type": "string"
            }
          },
          "metadata": {},
          "execution_count": 6
        }
      ]
    },
    {
      "cell_type": "code",
      "source": [
        "#Question.5 Write a code to replace the word \"apple\" with \"orange\" in the string \"I like apple\".\n",
        "\n",
        "word = \"I Like Appple\"\n",
        "word.replace(\"Appple\",\"Orange\")"
      ],
      "metadata": {
        "colab": {
          "base_uri": "https://localhost:8080/",
          "height": 35
        },
        "id": "TElFi6-GvxA8",
        "outputId": "01911e2f-f701-4fce-9fd6-f07beb49e2e8"
      },
      "execution_count": 7,
      "outputs": [
        {
          "output_type": "execute_result",
          "data": {
            "text/plain": [
              "'I Like Orange'"
            ],
            "application/vnd.google.colaboratory.intrinsic+json": {
              "type": "string"
            }
          },
          "metadata": {},
          "execution_count": 7
        }
      ]
    },
    {
      "cell_type": "code",
      "source": [
        "#Question.6 Write a code to create a list with numbers 1 to 5 and print it.\n",
        "\n",
        "my_list = [*range(0,6,1)]\n",
        "print(my_list)"
      ],
      "metadata": {
        "colab": {
          "base_uri": "https://localhost:8080/"
        },
        "id": "_r4zTVb9wCNQ",
        "outputId": "7fb27638-69ba-498c-e90e-78acc202ab9b"
      },
      "execution_count": 10,
      "outputs": [
        {
          "output_type": "stream",
          "name": "stdout",
          "text": [
            "[0, 1, 2, 3, 4, 5]\n"
          ]
        }
      ]
    },
    {
      "cell_type": "code",
      "source": [
        "#Question.7 Write a code to append the number 10 to the list [1, 2, 3, 4].\n",
        "\n",
        "my_list = [1,2,3,4]\n",
        "my_list.append(10)\n",
        "print(my_list)\n"
      ],
      "metadata": {
        "colab": {
          "base_uri": "https://localhost:8080/"
        },
        "id": "1uNpVUDswfEL",
        "outputId": "20cf4de5-206c-44e4-821e-7de2e2c275ea"
      },
      "execution_count": 13,
      "outputs": [
        {
          "output_type": "stream",
          "name": "stdout",
          "text": [
            "[1, 2, 3, 4, 10]\n"
          ]
        }
      ]
    },
    {
      "cell_type": "code",
      "source": [
        "#Question.8 Write a code to remove the number 3 from the list [1, 2, 3, 4, 5].\n",
        "\n",
        "my_list = [1,2,3,4,5]\n",
        "my_list.remove(3)\n",
        "print(my_list)"
      ],
      "metadata": {
        "colab": {
          "base_uri": "https://localhost:8080/"
        },
        "id": "N3bQTfYrw0Fe",
        "outputId": "04dda6fc-f217-494d-943e-f44e7cfcbe9b"
      },
      "execution_count": 14,
      "outputs": [
        {
          "output_type": "stream",
          "name": "stdout",
          "text": [
            "[1, 2, 4, 5]\n"
          ]
        }
      ]
    },
    {
      "cell_type": "code",
      "source": [
        "#Question.9 Write a code to access the second element in the list ['a', 'b', 'c', 'd']E\n",
        "\n",
        "my_list = ['a','b','c','d']\n",
        "my_list[1]"
      ],
      "metadata": {
        "colab": {
          "base_uri": "https://localhost:8080/",
          "height": 35
        },
        "id": "jUWlY-RExFNz",
        "outputId": "454a401c-26d2-40f1-c9a6-5997d2c10649"
      },
      "execution_count": 15,
      "outputs": [
        {
          "output_type": "execute_result",
          "data": {
            "text/plain": [
              "'b'"
            ],
            "application/vnd.google.colaboratory.intrinsic+json": {
              "type": "string"
            }
          },
          "metadata": {},
          "execution_count": 15
        }
      ]
    },
    {
      "cell_type": "code",
      "source": [
        "#Question.10 Write a code to access the second element in the list ['a', 'b', 'c', 'd'].\n",
        "\n",
        "my_list = [1, 2, 3, 4, 5]\n",
        "my_list.reverse()\n",
        "print(my_list)"
      ],
      "metadata": {
        "colab": {
          "base_uri": "https://localhost:8080/"
        },
        "id": "bV_SyC4XxZyW",
        "outputId": "a95ae3d0-3878-4ef9-cc2d-4b50f8ae29a0"
      },
      "execution_count": 16,
      "outputs": [
        {
          "output_type": "stream",
          "name": "stdout",
          "text": [
            "[5, 4, 3, 2, 1]\n"
          ]
        }
      ]
    },
    {
      "cell_type": "code",
      "source": [
        "#Question.11 Write a code to create a tuple with the elements 10, 20, 30 and print it.\n",
        "\n",
        "my_tuple = (10,20,30,40,50)\n",
        "print(my_tuple)"
      ],
      "metadata": {
        "colab": {
          "base_uri": "https://localhost:8080/"
        },
        "id": "KcXTMPHZxh-d",
        "outputId": "8379b41e-c26f-4e28-a2e4-fcd614b48ca8"
      },
      "execution_count": 17,
      "outputs": [
        {
          "output_type": "stream",
          "name": "stdout",
          "text": [
            "(10, 20, 30, 40, 50)\n"
          ]
        }
      ]
    },
    {
      "cell_type": "code",
      "source": [
        "#Question.12 Write a code to access the first element of the tuple ('apple', 'banana', 'cherry').\n",
        "\n",
        "my_tuple = ('apple','banana','cherry')\n",
        "my_tuple[0]\n"
      ],
      "metadata": {
        "colab": {
          "base_uri": "https://localhost:8080/",
          "height": 35
        },
        "id": "2LOUAOEjx6FZ",
        "outputId": "80fc9594-d34a-4358-b337-42b986307c98"
      },
      "execution_count": 19,
      "outputs": [
        {
          "output_type": "execute_result",
          "data": {
            "text/plain": [
              "'apple'"
            ],
            "application/vnd.google.colaboratory.intrinsic+json": {
              "type": "string"
            }
          },
          "metadata": {},
          "execution_count": 19
        }
      ]
    },
    {
      "cell_type": "code",
      "source": [
        "#Question.13 Write a code to count how many times the number 2 appears in the tuple (1, 2, 3, 2, 4, 2)\n",
        "\n",
        "my_tuple = (1,2,3,2,4,2)\n",
        "my_tuple.count(2)"
      ],
      "metadata": {
        "colab": {
          "base_uri": "https://localhost:8080/"
        },
        "id": "FbWCGFeiyCbH",
        "outputId": "84fc72a8-a87d-451a-97e5-17c078eef518"
      },
      "execution_count": 20,
      "outputs": [
        {
          "output_type": "execute_result",
          "data": {
            "text/plain": [
              "3"
            ]
          },
          "metadata": {},
          "execution_count": 20
        }
      ]
    },
    {
      "cell_type": "code",
      "source": [
        "#Question.14 Write a code to find the index of the element \"cat\" in the tuple ('dog', 'cat', 'rabbit').\n",
        "\n",
        "my_tuple = ('dog','cat','rabbit')\n",
        "my_tuple.index('cat')"
      ],
      "metadata": {
        "colab": {
          "base_uri": "https://localhost:8080/"
        },
        "id": "GSYI5ZoczyFx",
        "outputId": "59dea98e-6bb3-4051-ac98-23ab85bb766e"
      },
      "execution_count": 21,
      "outputs": [
        {
          "output_type": "execute_result",
          "data": {
            "text/plain": [
              "1"
            ]
          },
          "metadata": {},
          "execution_count": 21
        }
      ]
    },
    {
      "cell_type": "code",
      "source": [
        "#Question.15 Write a code to check if the element \"banana\" is in the tuple ('apple', 'orange', 'banana').\n",
        "\n",
        "my_tuple = ('apple','orange','banana')\n",
        "print('True') if 'banana' in my_tuple else print('False')\n",
        "\n",
        ""
      ],
      "metadata": {
        "colab": {
          "base_uri": "https://localhost:8080/"
        },
        "id": "dMceHyFQ0OBM",
        "outputId": "075c1bde-764a-4988-c8e3-1db8cf262259"
      },
      "execution_count": 24,
      "outputs": [
        {
          "output_type": "stream",
          "name": "stdout",
          "text": [
            "True\n"
          ]
        }
      ]
    },
    {
      "cell_type": "code",
      "source": [
        "#Question.16 Write a code to create a set with the elements 1, 2, 3, 4, 5 and print it.\n",
        "\n",
        "my_set ={ 1, 2, 3, 4, 5 }\n",
        "print(my_set)"
      ],
      "metadata": {
        "colab": {
          "base_uri": "https://localhost:8080/"
        },
        "id": "JA8iOKH41kTz",
        "outputId": "3896c9ca-59b4-4337-ce4d-5b93a4019a04"
      },
      "execution_count": 25,
      "outputs": [
        {
          "output_type": "stream",
          "name": "stdout",
          "text": [
            "{1, 2, 3, 4, 5}\n"
          ]
        }
      ]
    },
    {
      "cell_type": "code",
      "source": [
        "#Question.17 Write a code to add the element 6 to the set {1, 2, 3, 4}.\n",
        "\n",
        "my_set = {1,2,3,4,5}\n",
        "my_set.add(6)\n",
        "print(my_set)"
      ],
      "metadata": {
        "colab": {
          "base_uri": "https://localhost:8080/"
        },
        "id": "pRkM-vI02rK-",
        "outputId": "b8bf4b45-8ebb-498f-986f-da7c9ac499d4"
      },
      "execution_count": 26,
      "outputs": [
        {
          "output_type": "stream",
          "name": "stdout",
          "text": [
            "{1, 2, 3, 4, 5, 6}\n"
          ]
        }
      ]
    },
    {
      "cell_type": "code",
      "source": [
        "#Question.18 Write a code to create a tuple with the elements 10, 20, 30 and print it.\n",
        "\n",
        "my_tuple = (10,20,30)\n",
        "print(my_tuple)"
      ],
      "metadata": {
        "colab": {
          "base_uri": "https://localhost:8080/"
        },
        "id": "-UZoP-Du20wU",
        "outputId": "d000aee0-7a0e-4999-adf6-85dcc151c34f"
      },
      "execution_count": 27,
      "outputs": [
        {
          "output_type": "stream",
          "name": "stdout",
          "text": [
            "(10, 20, 30)\n"
          ]
        }
      ]
    },
    {
      "cell_type": "code",
      "source": [
        "#Question.19 Write a code to access the first element of the tuple ('apple', 'banana', 'cherry').\n",
        "\n",
        "my_tuple = ('apple','banana','cherry')\n",
        "my_tuple[0]"
      ],
      "metadata": {
        "colab": {
          "base_uri": "https://localhost:8080/",
          "height": 35
        },
        "id": "tiwvB-4S2_2J",
        "outputId": "f875978a-c8db-40ff-8ad6-87741ba13b0e"
      },
      "execution_count": 28,
      "outputs": [
        {
          "output_type": "execute_result",
          "data": {
            "text/plain": [
              "'apple'"
            ],
            "application/vnd.google.colaboratory.intrinsic+json": {
              "type": "string"
            }
          },
          "metadata": {},
          "execution_count": 28
        }
      ]
    },
    {
      "cell_type": "code",
      "source": [
        "#Question.20 Write a code to count how many times the number 2 appears in the tuple (1, 2, 3, 2, 4, 2).\n",
        "\n",
        "my_tuple = (1,2,3,2,4,2)\n",
        "my_tuple.count(2)"
      ],
      "metadata": {
        "colab": {
          "base_uri": "https://localhost:8080/"
        },
        "id": "NWLGFRZI3Kvn",
        "outputId": "5bc1c255-c120-4b87-a85e-6a691161e98a"
      },
      "execution_count": 29,
      "outputs": [
        {
          "output_type": "execute_result",
          "data": {
            "text/plain": [
              "3"
            ]
          },
          "metadata": {},
          "execution_count": 29
        }
      ]
    },
    {
      "cell_type": "code",
      "source": [
        "#Question.21 Write a code to find the index of the element \"cat\" in the tuple ('dog', 'cat', 'rabbit').\n",
        "\n",
        "my_tuple = ('dog','cat','rabbit')\n",
        "my_tuple.index('cat')"
      ],
      "metadata": {
        "colab": {
          "base_uri": "https://localhost:8080/"
        },
        "id": "acrxvIuw3W6N",
        "outputId": "047ff011-e620-4646-8fa2-fd622ce3e121"
      },
      "execution_count": 30,
      "outputs": [
        {
          "output_type": "execute_result",
          "data": {
            "text/plain": [
              "1"
            ]
          },
          "metadata": {},
          "execution_count": 30
        }
      ]
    },
    {
      "cell_type": "code",
      "source": [
        "#Question.22 Write a code to check if the element \"banana\" is in the tuple ('apple', 'orange', 'banana').\n",
        "\n",
        "my_tuple = ('apple','orange','banana')\n",
        "print('True') if 'banana' in my_tuple else print('False')"
      ],
      "metadata": {
        "colab": {
          "base_uri": "https://localhost:8080/"
        },
        "id": "3KTOHDCv3eKY",
        "outputId": "110bc451-0f93-4893-edd5-27a5f1858f22"
      },
      "execution_count": 32,
      "outputs": [
        {
          "output_type": "stream",
          "name": "stdout",
          "text": [
            "True\n"
          ]
        }
      ]
    },
    {
      "cell_type": "code",
      "source": [
        " #Question.23 Write a code to create a set with the elements 1, 2, 3, 4, 5 and print it.\n",
        "\n",
        "my_set = {1,2,3,4,5}\n",
        "print(my_set)"
      ],
      "metadata": {
        "colab": {
          "base_uri": "https://localhost:8080/"
        },
        "id": "7oI4gb3s3jsL",
        "outputId": "cd21f0bc-d8c9-45c1-96e9-96d5078577cb"
      },
      "execution_count": 34,
      "outputs": [
        {
          "output_type": "stream",
          "name": "stdout",
          "text": [
            "{1, 2, 3, 4, 5}\n"
          ]
        }
      ]
    },
    {
      "cell_type": "code",
      "source": [
        "#Question.24 Write a code to add the element 6 to the set {1, 2, 3, 4}.\n",
        "\n",
        "my_set = {1,2,3,4}\n",
        "my_set.add(6)\n",
        "print(my_set)"
      ],
      "metadata": {
        "colab": {
          "base_uri": "https://localhost:8080/"
        },
        "id": "rQA3BarM388Y",
        "outputId": "411be370-a8aa-45dc-ef35-f4417f3108f2"
      },
      "execution_count": 35,
      "outputs": [
        {
          "output_type": "stream",
          "name": "stdout",
          "text": [
            "{1, 2, 3, 4, 6}\n"
          ]
        }
      ]
    },
    {
      "cell_type": "code",
      "source": [],
      "metadata": {
        "id": "HGINisIV4XFB"
      },
      "execution_count": null,
      "outputs": []
    }
  ]
}